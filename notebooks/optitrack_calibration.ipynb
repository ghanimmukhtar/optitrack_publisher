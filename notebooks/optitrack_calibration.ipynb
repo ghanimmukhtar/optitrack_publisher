{
 "cells": [
  {
   "cell_type": "code",
   "execution_count": 1,
   "metadata": {
    "collapsed": false
   },
   "outputs": [],
   "source": [
    "import rospy,tf, numpy as np, transformations, json, rospkg, yaml\n",
    "from os import system\n",
    "from scipy.optimize import minimize\n",
    "import transformations\n",
    "import time"
   ]
  },
  {
   "cell_type": "code",
   "execution_count": 2,
   "metadata": {
    "collapsed": false
   },
   "outputs": [],
   "source": [
    "rospy.init_node('calibrator')"
   ]
  },
  {
   "cell_type": "code",
   "execution_count": 3,
   "metadata": {
    "collapsed": false
   },
   "outputs": [],
   "source": [
    "rospy.set_param('/optitrack/objects', ['/robot/calibrator'])"
   ]
  },
  {
   "cell_type": "code",
   "execution_count": 4,
   "metadata": {
    "collapsed": false
   },
   "outputs": [],
   "source": [
    "tfl = tf.TransformListener(True, rospy.Duration(2))  # tf will have 2 seconds of cache"
   ]
  },
  {
   "cell_type": "code",
   "execution_count": 5,
   "metadata": {
    "collapsed": false
   },
   "outputs": [],
   "source": [
    "rospack = rospkg.RosPack()"
   ]
  },
  {
   "cell_type": "code",
   "execution_count": 6,
   "metadata": {
    "collapsed": false
   },
   "outputs": [],
   "source": [
    "world_frame_robot = rospy.get_param('/optitrack/world_frame') # The world frame of the robot\n",
    "world_frame_opt = 'optitrack_frame' # The world frame of optitrack\n",
    "calib_frame_robot = 'left_gripper' # The frame used for calibration in the robot's frame\n",
    "calib_frame_opt = '/robot/calibrator' # The frame used for calibration in the optitrack's frame"
   ]
  },
  {
   "cell_type": "code",
   "execution_count": 8,
   "metadata": {
    "collapsed": false,
    "scrolled": true
   },
   "outputs": [
    {
     "name": "stdout",
     "output_type": "stream",
     "text": [
      "Now run the publisher: roslaunch optitrack_publisher optitrack_publisher.launch ip:=<IP> world:=base\n"
     ]
    }
   ],
   "source": [
    "print \"Now run the publisher: roslaunch optitrack_publisher optitrack_publisher.launch ip:=<IP> world:={}\".format(world_frame_robot)"
   ]
  },
  {
   "cell_type": "markdown",
   "metadata": {},
   "source": [
    "Also check that the ROS master and the local machine are up-to-date regarding time, to synchronize your local machine's time execute:\n",
    "```\n",
    "ntpdate -q ntp.ubuntu.com\n",
    "```"
   ]
  },
  {
   "cell_type": "markdown",
   "metadata": {},
   "source": [
    "## Definition of functions\n",
    "Nothing to do here, just executing...\n",
    "### Record calibration points"
   ]
  },
  {
   "cell_type": "code",
   "execution_count": 9,
   "metadata": {
    "collapsed": false
   },
   "outputs": [],
   "source": [
    "def record_calibration_points(continuous = True, duration=60, min_dist=0.01, max_dur=0.05):\n",
    "    mat_robot = [] # Matrix of all calibration points of calib_frame_robot in frame world_frame_robot (position only)\n",
    "    mat_opt = [] # Matrix of all calibration points of calib_frame_opt in frame world_frame_opt (position only)\n",
    "    max_dur = rospy.Duration(max_dur) # seconds\n",
    "    duration = rospy.Duration(duration)\n",
    "    \n",
    "    start = rospy.Time.now()\n",
    "    last_point = None\n",
    "    entry = \"\"\n",
    "    while continuous and rospy.Time.now()<start+duration or not continuous and entry==\"\":   \n",
    "        ref_time = tfl.getLatestCommonTime(world_frame_robot, calib_frame_opt)\n",
    "        now = rospy.Time.now()\n",
    "        \n",
    "        if ref_time > now - max_dur:\n",
    "            try:\n",
    "                pose_rg_robot = tfl.lookupTransform(world_frame_robot, calib_frame_robot, rospy.Time(0))\n",
    "            except Exception, e:\n",
    "                print \"Robot <-> Optitrack transformation not available at the last known common time:\", e.message\n",
    "            else:\n",
    "                if last_point is None or transformations.distance(pose_rg_robot, last_point)>min_dist:\n",
    "                    try:\n",
    "                        pose_rg_opt = tfl.lookupTransform(world_frame_opt, calib_frame_opt, rospy.Time(0))\n",
    "                    except:\n",
    "                        print \"Optitrack Marker not visible at the last know common time\"\n",
    "                    else:\n",
    "                        mat_robot.append(np.array(pose_rg_robot))\n",
    "                        mat_opt.append(np.array(pose_rg_opt))\n",
    "                        last_point = pose_rg_robot\n",
    "                        system('beep')\n",
    "        else:\n",
    "            print \"TFs are\", (now - ref_time).to_sec(), \"sec late\"\n",
    "        \n",
    "        if continuous:\n",
    "            rospy.sleep(0.25)\n",
    "        else:\n",
    "            entry = raw_input(\"Press enter to record a new point or q-enter to quit ({} points)\".format(len(mat_robot)))\n",
    "    return mat_opt, mat_robot"
   ]
  },
  {
   "cell_type": "markdown",
   "metadata": {},
   "source": [
    "### Formating functions"
   ]
  },
  {
   "cell_type": "code",
   "execution_count": 10,
   "metadata": {
    "collapsed": false
   },
   "outputs": [],
   "source": [
    "def extract_transforms(flat_transforms):\n",
    "    # a transform is 3 pos and 4 rot\n",
    "    nb_transform = len(flat_transforms) / 7\n",
    "    list_transforms = []\n",
    "    for i in range(nb_transform):\n",
    "        pose = []\n",
    "        # extract the pose\n",
    "        pose.append(flat_transforms[i * 7:i * 7 + 3])\n",
    "        pose.append(flat_transforms[i * 7 + 3:i * 7 + 7])\n",
    "        # append it to the list of transforms\n",
    "        list_transforms.append(pose)\n",
    "    return list_transforms\n",
    "        \n",
    "def result_to_calibration_matrix(result):\n",
    "    calibration_matrix = transformations.inverse_transform(result)\n",
    "    return [map(float, calibration_matrix[0]), map(float, calibration_matrix[1].tolist())]"
   ]
  },
  {
   "cell_type": "markdown",
   "metadata": {},
   "source": [
    "### Cost function for the optimization"
   ]
  },
  {
   "cell_type": "code",
   "execution_count": 11,
   "metadata": {
    "collapsed": true
   },
   "outputs": [],
   "source": [
    "def evaluate_calibration(calibrations, coords_robot, coords_opt):\n",
    "    def quaternion_cost(norm_coeff):\n",
    "        C = 0\n",
    "        for transform in list_calibr:\n",
    "            # norm of a quaternion is always 1\n",
    "            C += norm_coeff * abs(np.linalg.norm(transform[1]) - 1)\n",
    "        return C\n",
    "        \n",
    "    def distance_cost(pose1, pose2, rot_coeff=2):\n",
    "        pos_cost = 0\n",
    "        # calculate position ditance\n",
    "        pos_cost = np.linalg.norm(np.array(pose1[0]) - np.array(pose2[0]))\n",
    "        # distance between two quaternions\n",
    "        rot_cost = 1 - np.inner(pose1[1], pose2[1])**2\n",
    "        return pos_cost + rot_coeff * rot_cost\n",
    "\n",
    "    # first extract the transformations\n",
    "    list_calibr = extract_transforms(calibrations)\n",
    "    # set the base transform\n",
    "    A = list_calibr[0]\n",
    "    B = list_calibr[1]\n",
    "    # loop trough all the transforms\n",
    "    cost = quaternion_cost(1)\n",
    "    nb_points = len(coords_robot)\n",
    "    for i in range(nb_points):\n",
    "        robot = coords_robot[i]\n",
    "        opt = coords_opt[i]\n",
    "        product = transformations.multiply_transform(robot, B)\n",
    "        product = transformations.multiply_transform(A, product)\n",
    "        product[1] /= np.linalg.norm(product[1])\n",
    "        cost += distance_cost(opt, product)\n",
    "    return cost"
   ]
  },
  {
   "cell_type": "code",
   "execution_count": 12,
   "metadata": {
    "collapsed": true
   },
   "outputs": [],
   "source": [
    "bounds = []\n",
    "pos_bounds = [-4, 4]\n",
    "rot_bounds = [-1, 1]\n",
    "for i in range(2):\n",
    "    for j in range(3):\n",
    "        bounds.append(pos_bounds)\n",
    "    for j in range(4):\n",
    "        bounds.append(rot_bounds)"
   ]
  },
  {
   "cell_type": "markdown",
   "metadata": {},
   "source": [
    "### Functions for quality checking"
   ]
  },
  {
   "cell_type": "code",
   "execution_count": 13,
   "metadata": {
    "collapsed": false
   },
   "outputs": [],
   "source": [
    "def calculate_position_error(A, B, coords_robot, coords_opt):\n",
    "    norm = 0.\n",
    "    # precision error\n",
    "    for i in range(len(coords_robot)):\n",
    "        robot = coords_robot[i]\n",
    "        opt = coords_opt[i]\n",
    "        product = tranformations.multiply_tranform(robot, B)\n",
    "        product = tranformations.multiply_tranform(A, product)\n",
    "        norm += np.linalg.norm(opt[0], product[0])\n",
    "    return norm"
   ]
  },
  {
   "cell_type": "markdown",
   "metadata": {},
   "source": [
    "## Acquisition of points for calibration by moving the arm..."
   ]
  },
  {
   "cell_type": "code",
   "execution_count": 14,
   "metadata": {
    "collapsed": false
   },
   "outputs": [],
   "source": [
    "# Record during 60 sec... set continuous=False for an interactive mode\n",
    "mat_opt, mat_robot = record_calibration_points(continuous=True)"
   ]
  },
  {
   "cell_type": "code",
   "execution_count": 15,
   "metadata": {
    "collapsed": false
   },
   "outputs": [
    {
     "name": "stdout",
     "output_type": "stream",
     "text": [
      "113 points recorded\n"
     ]
    }
   ],
   "source": [
    "print len(mat_opt), \"points recorded\""
   ]
  },
  {
   "cell_type": "markdown",
   "metadata": {},
   "source": [
    "## Optimization of the calibration matrix"
   ]
  },
  {
   "cell_type": "code",
   "execution_count": 16,
   "metadata": {
    "collapsed": false
   },
   "outputs": [],
   "source": [
    "initial_guess = [0,0,0,0,0,0,1]*2"
   ]
  },
  {
   "cell_type": "code",
   "execution_count": 17,
   "metadata": {
    "collapsed": false
   },
   "outputs": [
    {
     "name": "stdout",
     "output_type": "stream",
     "text": [
      "114.883852005 seconds of optimization\n"
     ]
    }
   ],
   "source": [
    "t0 = time.time()\n",
    "# Be patient, this cell can be long to execute...\n",
    "result = minimize(evaluate_calibration, initial_guess, args=(mat_robot, mat_opt, ),\n",
    "                  method='L-BFGS-B', bounds=bounds)\n",
    "print time.time()-t0, \"seconds of optimization\""
   ]
  },
  {
   "cell_type": "code",
   "execution_count": 18,
   "metadata": {
    "collapsed": false
   },
   "outputs": [
    {
     "name": "stdout",
     "output_type": "stream",
     "text": [
      "      fun: 0.78325835213130235\n",
      " hess_inv: <14x14 LbfgsInvHessProduct with dtype=float64>\n",
      "      jac: array([ -3.65115049e-02,  -1.09724119e-02,  -5.53316393e-02,\n",
      "         4.56721438e-02,   4.03179046e-02,   6.06682127e-01,\n",
      "         7.07527792e-01,  -7.22845894e-02,  -7.42909401e-02,\n",
      "        -6.78013201e-05,   4.88582286e-02,   6.12686546e-01,\n",
      "        -2.32589770e-01,   3.92384925e-01])\n",
      "  message: 'CONVERGENCE: REL_REDUCTION_OF_F_<=_FACTR*EPSMCH'\n",
      "     nfev: 4845\n",
      "      nit: 193\n",
      "   status: 0\n",
      "  success: True\n",
      "        x: array([  1.98103156e-01,   8.22789480e-01,   9.29351936e-01,\n",
      "         4.70738708e-04,  -7.01526857e-04,  -7.16430454e-01,\n",
      "         6.97658005e-01,  -3.73378973e-03,   9.00575242e-04,\n",
      "         1.25077429e-02,  -5.94155277e-01,   5.95435465e-01,\n",
      "        -2.59463560e-01,   4.74462622e-01])\n"
     ]
    }
   ],
   "source": [
    "print result"
   ]
  },
  {
   "cell_type": "code",
   "execution_count": 19,
   "metadata": {
    "collapsed": false
   },
   "outputs": [],
   "source": [
    "result_list = extract_transforms(result.x)"
   ]
  },
  {
   "cell_type": "markdown",
   "metadata": {},
   "source": [
    "## Dumping A i.e. the calibration matrix (the transformation between the optitrack frame and the robot base frame)"
   ]
  },
  {
   "cell_type": "code",
   "execution_count": 20,
   "metadata": {
    "collapsed": false
   },
   "outputs": [],
   "source": [
    "calibration_matrix_a = result_to_calibration_matrix(result_list[0])"
   ]
  },
  {
   "cell_type": "code",
   "execution_count": 21,
   "metadata": {
    "collapsed": false
   },
   "outputs": [],
   "source": [
    "rospy.set_param(\"/optitrack/calibration_matrix\", calibration_matrix_a)"
   ]
  },
  {
   "cell_type": "code",
   "execution_count": 22,
   "metadata": {
    "collapsed": false
   },
   "outputs": [],
   "source": [
    "with open(rospack.get_path(\"optitrack_publisher\")+\"/config/calibration_matrix.yaml\", 'w') as f:\n",
    "    yaml.dump(calibration_matrix_a, f)"
   ]
  },
  {
   "cell_type": "markdown",
   "metadata": {},
   "source": [
    "## Dumping B (the transformation between the optitrack marker and the end effector frame)"
   ]
  },
  {
   "cell_type": "code",
   "execution_count": 23,
   "metadata": {
    "collapsed": false
   },
   "outputs": [],
   "source": [
    "calibration_matrix_b = result_to_calibration_matrix(result_list[1])"
   ]
  },
  {
   "cell_type": "code",
   "execution_count": 24,
   "metadata": {
    "collapsed": false
   },
   "outputs": [],
   "source": [
    "with open(rospack.get_path(\"optitrack_publisher\")+\"/config/calibration_matrix_b.yaml\", 'w') as f:\n",
    "    yaml.dump(calibration_matrix_b, f)"
   ]
  },
  {
   "cell_type": "markdown",
   "metadata": {},
   "source": [
    "## Testing calibration quality"
   ]
  },
  {
   "cell_type": "code",
   "execution_count": null,
   "metadata": {
    "collapsed": false
   },
   "outputs": [
    {
     "name": "stdout",
     "output_type": "stream",
     "text": [
      "Press enter to record a new point or q-enter to quit (1 points)\n"
     ]
    }
   ],
   "source": [
    "mat_opt_check, mat_robot_check = record_calibration_points(False)"
   ]
  },
  {
   "cell_type": "code",
   "execution_count": 28,
   "metadata": {
    "collapsed": false
   },
   "outputs": [
    {
     "name": "stdout",
     "output_type": "stream",
     "text": [
      "1 points recorded\n"
     ]
    }
   ],
   "source": [
    "print len(mat_opt), \"points recorded\""
   ]
  },
  {
   "cell_type": "code",
   "execution_count": 29,
   "metadata": {
    "collapsed": false
   },
   "outputs": [
    {
     "ename": "NameError",
     "evalue": "name 'calculate_cost' is not defined",
     "output_type": "error",
     "traceback": [
      "\u001b[0;31m---------------------------------------------------------------------------\u001b[0m",
      "\u001b[0;31mNameError\u001b[0m                                 Traceback (most recent call last)",
      "\u001b[0;32m<ipython-input-29-d5fdc93be147>\u001b[0m in \u001b[0;36m<module>\u001b[0;34m()\u001b[0m\n\u001b[0;32m----> 1\u001b[0;31m \u001b[0mcalculate_cost\u001b[0m\u001b[0;34m(\u001b[0m\u001b[0mresult_a\u001b[0m\u001b[0;34m,\u001b[0m \u001b[0mresult_b\u001b[0m\u001b[0;34m,\u001b[0m \u001b[0mmat_robot_check\u001b[0m\u001b[0;34m,\u001b[0m \u001b[0mmat_opt_check\u001b[0m\u001b[0;34m)\u001b[0m\u001b[0;34m\u001b[0m\u001b[0m\n\u001b[0m",
      "\u001b[0;31mNameError\u001b[0m: name 'calculate_cost' is not defined"
     ]
    }
   ],
   "source": [
    "calculate_cost(result_a, result_b, mat_robot_check, mat_opt_check)"
   ]
  },
  {
   "cell_type": "code",
   "execution_count": 30,
   "metadata": {
    "collapsed": false
   },
   "outputs": [
    {
     "ename": "NameError",
     "evalue": "name 'result_a' is not defined",
     "output_type": "error",
     "traceback": [
      "\u001b[0;31m---------------------------------------------------------------------------\u001b[0m",
      "\u001b[0;31mNameError\u001b[0m                                 Traceback (most recent call last)",
      "\u001b[0;32m<ipython-input-30-8c2ec5c2b60d>\u001b[0m in \u001b[0;36m<module>\u001b[0;34m()\u001b[0m\n\u001b[0;32m----> 1\u001b[0;31m \u001b[0mavg_error\u001b[0m \u001b[0;34m=\u001b[0m \u001b[0mcalculate_position_error\u001b[0m\u001b[0;34m(\u001b[0m\u001b[0mresult_a\u001b[0m\u001b[0;34m,\u001b[0m \u001b[0mresult_b\u001b[0m\u001b[0;34m,\u001b[0m \u001b[0mmat_robot_check\u001b[0m\u001b[0;34m,\u001b[0m \u001b[0mmat_opt_check\u001b[0m\u001b[0;34m)\u001b[0m\u001b[0;34m/\u001b[0m\u001b[0mlen\u001b[0m\u001b[0;34m(\u001b[0m\u001b[0mmat_opt_check\u001b[0m\u001b[0;34m)\u001b[0m\u001b[0;34m\u001b[0m\u001b[0m\n\u001b[0m",
      "\u001b[0;31mNameError\u001b[0m: name 'result_a' is not defined"
     ]
    }
   ],
   "source": [
    "avg_error = calculate_position_error(result_a, result_b, mat_robot_check, mat_opt_check)/len(mat_opt_check)"
   ]
  },
  {
   "cell_type": "code",
   "execution_count": null,
   "metadata": {
    "collapsed": false
   },
   "outputs": [],
   "source": [
    "avg_error"
   ]
  }
 ],
 "metadata": {
  "kernelspec": {
   "display_name": "Python 2",
   "language": "python",
   "name": "python2"
  },
  "language_info": {
   "codemirror_mode": {
    "name": "ipython",
    "version": 2
   },
   "file_extension": ".py",
   "mimetype": "text/x-python",
   "name": "python",
   "nbconvert_exporter": "python",
   "pygments_lexer": "ipython2",
   "version": "2.7.6"
  }
 },
 "nbformat": 4,
 "nbformat_minor": 0
}
