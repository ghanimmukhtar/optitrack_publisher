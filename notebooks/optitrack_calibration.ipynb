{
 "cells": [
  {
   "cell_type": "code",
   "execution_count": 1,
   "metadata": {
    "collapsed": false
   },
   "outputs": [],
   "source": [
    "import rospy,tf, numpy as np, transformations, json, rospkg, yaml\n",
    "from os import system\n",
    "from scipy.optimize import minimize\n",
    "import transformations\n",
    "import time"
   ]
  },
  {
   "cell_type": "code",
   "execution_count": 2,
   "metadata": {
    "collapsed": false
   },
   "outputs": [],
   "source": [
    "rospy.init_node('calibrator')"
   ]
  },
  {
   "cell_type": "code",
   "execution_count": 3,
   "metadata": {
    "collapsed": false
   },
   "outputs": [],
   "source": [
    "rospy.set_param('/optitrack/objects', ['/robot/calibrator'])"
   ]
  },
  {
   "cell_type": "code",
   "execution_count": 4,
   "metadata": {
    "collapsed": false
   },
   "outputs": [],
   "source": [
    "tfl = tf.TransformListener(True, rospy.Duration(2))  # tf will have 2 seconds of cache"
   ]
  },
  {
   "cell_type": "code",
   "execution_count": 5,
   "metadata": {
    "collapsed": false
   },
   "outputs": [],
   "source": [
    "rospack = rospkg.RosPack()"
   ]
  },
  {
   "cell_type": "code",
   "execution_count": 6,
   "metadata": {
    "collapsed": false
   },
   "outputs": [],
   "source": [
    "world_frame_robot = rospy.get_param('/optitrack/world_frame') # The world frame of the robot\n",
    "world_frame_opt = 'optitrack_frame' # The world frame of optitrack\n",
    "calib_frame_robot = 'left_gripper' # The frame used for calibration in the robot's frame\n",
    "calib_frame_opt = '/robot/calibrator' # The frame used for calibration in the optitrack's frame"
   ]
  },
  {
   "cell_type": "code",
   "execution_count": 7,
   "metadata": {
    "collapsed": false,
    "scrolled": true
   },
   "outputs": [
    {
     "name": "stdout",
     "output_type": "stream",
     "text": [
      "Now run the publisher: roslaunch optitrack_publisher optitrack_publisher.launch ip:=<IP> world:=base\n"
     ]
    }
   ],
   "source": [
    "print \"Now run the publisher: roslaunch optitrack_publisher optitrack_publisher.launch ip:=<IP> world:={}\".format(world_frame_robot)"
   ]
  },
  {
   "cell_type": "markdown",
   "metadata": {},
   "source": [
    "Also check that the ROS master and the local machine are up-to-date regarding time, to synchronize your local machine's time execute:\n",
    "```\n",
    "ntpdate -q ntp.ubuntu.com\n",
    "```"
   ]
  },
  {
   "cell_type": "markdown",
   "metadata": {},
   "source": [
    "## Definition of functions\n",
    "Nothing to do here, just executing...\n",
    "### Record calibration points"
   ]
  },
  {
   "cell_type": "code",
   "execution_count": 8,
   "metadata": {
    "collapsed": false
   },
   "outputs": [],
   "source": [
    "def record_calibration_points(continuous = True, duration=60, min_dist=0.01, max_dur=0.05):\n",
    "    mat_robot = [] # Matrix of all calibration points of calib_frame_robot in frame world_frame_robot (position only)\n",
    "    mat_opt = [] # Matrix of all calibration points of calib_frame_opt in frame world_frame_opt (position only)\n",
    "    max_dur = rospy.Duration(max_dur) # seconds\n",
    "    duration = rospy.Duration(duration)\n",
    "    \n",
    "    start = rospy.Time.now()\n",
    "    last_point = None\n",
    "    entry = \"\"\n",
    "    while continuous and rospy.Time.now()<start+duration or not continuous and entry==\"\":   \n",
    "        ref_time = tfl.getLatestCommonTime(world_frame_robot, calib_frame_opt)\n",
    "        now = rospy.Time.now()\n",
    "        \n",
    "        if ref_time > now - max_dur:\n",
    "            try:\n",
    "                pose_rg_robot = tfl.lookupTransform(world_frame_robot, calib_frame_robot, rospy.Time(0))\n",
    "            except Exception, e:\n",
    "                print \"Robot <-> Optitrack transformation not available at the last known common time:\", e.message\n",
    "            else:\n",
    "                if last_point is None or transformations.distance(pose_rg_robot, last_point)>min_dist:\n",
    "                    try:\n",
    "                        pose_rg_opt = tfl.lookupTransform(world_frame_opt, calib_frame_opt, rospy.Time(0))\n",
    "                    except:\n",
    "                        print \"Optitrack Marker not visible at the last know common time\"\n",
    "                    else:\n",
    "                        mat_robot.append(np.array(pose_rg_robot))\n",
    "                        mat_opt.append(np.array(pose_rg_opt))\n",
    "                        last_point = pose_rg_robot\n",
    "                        system('beep')\n",
    "        else:\n",
    "            print \"TFs are\", (now - ref_time).to_sec(), \"sec late\"\n",
    "        \n",
    "        if continuous:\n",
    "            rospy.sleep(0.25)\n",
    "        else:\n",
    "            entry = raw_input(\"Press enter to record a new point or q-enter to quit ({} points)\".format(len(mat_robot)))\n",
    "    return mat_opt, mat_robot"
   ]
  },
  {
   "cell_type": "markdown",
   "metadata": {},
   "source": [
    "### Formating functions"
   ]
  },
  {
   "cell_type": "code",
   "execution_count": 9,
   "metadata": {
    "collapsed": false
   },
   "outputs": [],
   "source": [
    "def extract_transforms(flat_transforms):\n",
    "    # a transform is 3 pos and 4 rot\n",
    "    nb_transform = len(flat_transforms) / 7\n",
    "    list_transforms = []\n",
    "    for i in range(nb_transform):\n",
    "        pose = []\n",
    "        # extract the pose\n",
    "        pose.append(flat_transforms[i * 7:i * 7 + 3])\n",
    "        pose.append(flat_transforms[i * 7 + 3:i * 7 + 7])\n",
    "        # append it to the list of transforms\n",
    "        list_transforms.append(pose)\n",
    "    return list_transforms\n",
    "        \n",
    "def result_to_calibration_matrix(result):\n",
    "    calibration_matrix = transformations.inverse_transform(result)\n",
    "    return [map(float, calibration_matrix[0]), map(float, calibration_matrix[1].tolist())]"
   ]
  },
  {
   "cell_type": "markdown",
   "metadata": {},
   "source": [
    "### Cost function for the optimization"
   ]
  },
  {
   "cell_type": "code",
   "execution_count": 10,
   "metadata": {
    "collapsed": true
   },
   "outputs": [],
   "source": [
    "def evaluate_calibration(calibrations, coords_robot, coords_opt):\n",
    "    def quaternion_cost(norm_coeff):\n",
    "        C = 0\n",
    "        for transform in list_calibr:\n",
    "            # norm of a quaternion is always 1\n",
    "            C += norm_coeff * abs(np.linalg.norm(transform[1]) - 1)\n",
    "        return C\n",
    "        \n",
    "    def distance_cost(pose1, pose2, rot_coeff=2):\n",
    "        pos_cost = 0\n",
    "        # calculate position ditance\n",
    "        pos_cost = np.linalg.norm(np.array(pose1[0]) - np.array(pose2[0]))\n",
    "        # distance between two quaternions\n",
    "        rot_cost = 1 - np.inner(pose1[1], pose2[1])**2\n",
    "        return pos_cost + rot_coeff * rot_cost\n",
    "\n",
    "    # first extract the transformations\n",
    "    list_calibr = extract_transforms(calibrations)\n",
    "    # set the base transform\n",
    "    A = list_calibr[0]\n",
    "    B = list_calibr[1]\n",
    "    # loop trough all the transforms\n",
    "    cost = quaternion_cost(1)\n",
    "    nb_points = len(coords_robot)\n",
    "    for i in range(nb_points):\n",
    "        robot = coords_robot[i]\n",
    "        opt = coords_opt[i]\n",
    "        product = transformations.multiply_transform(robot, B)\n",
    "        product = transformations.multiply_transform(A, product)\n",
    "        product[1] /= np.linalg.norm(product[1])\n",
    "        cost += distance_cost(opt, product)\n",
    "    return cost"
   ]
  },
  {
   "cell_type": "code",
   "execution_count": 11,
   "metadata": {
    "collapsed": true
   },
   "outputs": [],
   "source": [
    "bounds = []\n",
    "pos_bounds = [-4, 4]\n",
    "rot_bounds = [-1, 1]\n",
    "for i in range(2):\n",
    "    for j in range(3):\n",
    "        bounds.append(pos_bounds)\n",
    "    for j in range(4):\n",
    "        bounds.append(rot_bounds)"
   ]
  },
  {
   "cell_type": "markdown",
   "metadata": {},
   "source": [
    "### Functions for quality checking"
   ]
  },
  {
   "cell_type": "code",
   "execution_count": 12,
   "metadata": {
    "collapsed": false
   },
   "outputs": [],
   "source": [
    "def calculate_position_error(A, B, coords_robot, coords_opt):\n",
    "    norm = 0.\n",
    "    # precision error\n",
    "    for i in range(len(coords_robot)):\n",
    "        robot = coords_robot[i]\n",
    "        opt = coords_opt[i]\n",
    "        product = tranformations.multiply_tranform(robot, B)\n",
    "        product = tranformations.multiply_tranform(A, product)\n",
    "        norm += np.linalg.norm(opt[0], product[0])\n",
    "    return norm"
   ]
  },
  {
   "cell_type": "markdown",
   "metadata": {},
   "source": [
    "## Acquisition of points for calibration by moving the arm..."
   ]
  },
  {
   "cell_type": "code",
   "execution_count": 13,
   "metadata": {
    "collapsed": false
   },
   "outputs": [
    {
     "name": "stdout",
     "output_type": "stream",
     "text": [
      "TFs are 0.062745094 sec late\n",
      "TFs are 0.148813962 sec late\n",
      "TFs are 0.400902986 sec late\n",
      "TFs are 0.651869058 sec late\n"
     ]
    }
   ],
   "source": [
    "# Record during 60 sec... set continuous=False for an interactive mode\n",
    "mat_opt, mat_robot = record_calibration_points(continuous=True)"
   ]
  },
  {
   "cell_type": "code",
   "execution_count": 14,
   "metadata": {
    "collapsed": false
   },
   "outputs": [
    {
     "name": "stdout",
     "output_type": "stream",
     "text": [
      "91 points recorded\n"
     ]
    }
   ],
   "source": [
    "print len(mat_opt), \"points recorded\""
   ]
  },
  {
   "cell_type": "markdown",
   "metadata": {},
   "source": [
    "## Optimization of the calibration matrix"
   ]
  },
  {
   "cell_type": "code",
   "execution_count": 15,
   "metadata": {
    "collapsed": false
   },
   "outputs": [],
   "source": [
    "initial_guess = [0,0,0,0,0,0,1]*2"
   ]
  },
  {
   "cell_type": "code",
   "execution_count": 16,
   "metadata": {
    "collapsed": false
   },
   "outputs": [
    {
     "name": "stdout",
     "output_type": "stream",
     "text": [
      "65.4488520622 seconds of optimization\n"
     ]
    }
   ],
   "source": [
    "t0 = time.time()\n",
    "# Be patient, this cell can be long to execute...\n",
    "result = minimize(evaluate_calibration, initial_guess, args=(mat_robot, mat_opt, ),\n",
    "                  method='L-BFGS-B', bounds=bounds)\n",
    "print time.time()-t0, \"seconds of optimization\""
   ]
  },
  {
   "cell_type": "code",
   "execution_count": 17,
   "metadata": {
    "collapsed": false
   },
   "outputs": [
    {
     "name": "stdout",
     "output_type": "stream",
     "text": [
      "      fun: 0.6497666647468392\n",
      " hess_inv: <14x14 LbfgsInvHessProduct with dtype=float64>\n",
      "      jac: array([ 0.06982465,  0.04998   , -0.03226329, -0.01558742, -0.02145388,\n",
      "        0.73343176, -0.68028041, -0.00470421, -0.02161892,  0.00148932,\n",
      "        0.70428793, -0.18120027, -0.1738361 , -0.15163428])\n",
      "  message: 'CONVERGENCE: REL_REDUCTION_OF_F_<=_FACTR*EPSMCH'\n",
      "     nfev: 3300\n",
      "      nit: 157\n",
      "   status: 0\n",
      "  success: True\n",
      "        x: array([  1.37033060e-01,   1.27965045e+00,   9.22275169e-01,\n",
      "        -1.40624445e-03,  -8.42865673e-03,  -7.22641990e-01,\n",
      "         6.91169661e-01,  -2.78189045e-03,   5.57694459e-04,\n",
      "         5.74073596e-03,  -6.95629181e-01,   1.58989669e-01,\n",
      "         1.42831386e-01,   6.85872812e-01])\n"
     ]
    }
   ],
   "source": [
    "print result"
   ]
  },
  {
   "cell_type": "code",
   "execution_count": 18,
   "metadata": {
    "collapsed": false
   },
   "outputs": [],
   "source": [
    "result_list = extract_transforms(result.x)"
   ]
  },
  {
   "cell_type": "markdown",
   "metadata": {},
   "source": [
    "## Dumping A i.e. the calibration matrix (the transformation between the optitrack frame and the robot base frame)"
   ]
  },
  {
   "cell_type": "code",
   "execution_count": 19,
   "metadata": {
    "collapsed": false
   },
   "outputs": [],
   "source": [
    "calibration_matrix_a = result_to_calibration_matrix(result_list[0])"
   ]
  },
  {
   "cell_type": "code",
   "execution_count": 20,
   "metadata": {
    "collapsed": false
   },
   "outputs": [],
   "source": [
    "rospy.set_param(\"/optitrack/calibration_matrix\", calibration_matrix_a)"
   ]
  },
  {
   "cell_type": "code",
   "execution_count": null,
   "metadata": {
    "collapsed": false
   },
   "outputs": [],
   "source": [
    "with open(rospack.get_path(\"optitrack_publisher\")+\"/config/calibration_matrix.yaml\", 'w') as f:\n",
    "    yaml.dump(calibration_matrix_a, f)"
   ]
  },
  {
   "cell_type": "markdown",
   "metadata": {},
   "source": [
    "## Dumping B (the transformation between the optitrack marker and the end effector frame)"
   ]
  },
  {
   "cell_type": "code",
   "execution_count": null,
   "metadata": {
    "collapsed": false
   },
   "outputs": [],
   "source": [
    "calibration_matrix_b = result_to_calibration_matrix(result_list[1])"
   ]
  },
  {
   "cell_type": "code",
   "execution_count": null,
   "metadata": {
    "collapsed": false
   },
   "outputs": [],
   "source": [
    "with open(rospack.get_path(\"optitrack_publisher\")+\"/config/calibration_matrix_b.yaml\", 'w') as f:\n",
    "    yaml.dump(calibration_matrix_b, f)"
   ]
  },
  {
   "cell_type": "markdown",
   "metadata": {},
   "source": [
    "## Testing calibration quality"
   ]
  },
  {
   "cell_type": "code",
   "execution_count": null,
   "metadata": {
    "collapsed": false
   },
   "outputs": [],
   "source": [
    "mat_opt_check, mat_robot_check = record_calibration_points(False)"
   ]
  },
  {
   "cell_type": "code",
   "execution_count": null,
   "metadata": {
    "collapsed": false
   },
   "outputs": [],
   "source": [
    "print len(mat_opt), \"points recorded\""
   ]
  },
  {
   "cell_type": "code",
   "execution_count": null,
   "metadata": {
    "collapsed": false
   },
   "outputs": [],
   "source": [
    "calculate_cost(result_a, result_b, mat_robot_check, mat_opt_check)"
   ]
  },
  {
   "cell_type": "code",
   "execution_count": null,
   "metadata": {
    "collapsed": false
   },
   "outputs": [],
   "source": [
    "avg_error = calculate_position_error(result_a, result_b, mat_robot_check, mat_opt_check)/len(mat_opt_check)"
   ]
  },
  {
   "cell_type": "code",
   "execution_count": null,
   "metadata": {
    "collapsed": false
   },
   "outputs": [],
   "source": [
    "avg_error"
   ]
  }
 ],
 "metadata": {
  "kernelspec": {
   "display_name": "Python 2",
   "language": "python",
   "name": "python2"
  },
  "language_info": {
   "codemirror_mode": {
    "name": "ipython",
    "version": 2
   },
   "file_extension": ".py",
   "mimetype": "text/x-python",
   "name": "python",
   "nbconvert_exporter": "python",
   "pygments_lexer": "ipython2",
   "version": "2.7.6"
  }
 },
 "nbformat": 4,
 "nbformat_minor": 0
}
